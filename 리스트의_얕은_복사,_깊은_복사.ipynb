{
  "nbformat": 4,
  "nbformat_minor": 0,
  "metadata": {
    "colab": {
      "provenance": [],
      "authorship_tag": "ABX9TyPnCUQCyg6m2Qw0c+NGupGW"
    },
    "kernelspec": {
      "name": "python3",
      "display_name": "Python 3"
    },
    "language_info": {
      "name": "python"
    }
  },
  "cells": [
    {
      "cell_type": "code",
      "execution_count": 1,
      "metadata": {
        "colab": {
          "base_uri": "https://localhost:8080/"
        },
        "id": "RidjUwUGPNUg",
        "outputId": "f3bb324f-860a-4ff0-dea9-5ac4959ddd30"
      },
      "outputs": [
        {
          "output_type": "stream",
          "name": "stdout",
          "text": [
            "list =  [1, 2, 3, 4, 5, 6] \n",
            " x =  [1, 2, 3, 4, 5]\n",
            "list =  [1, 2, 3, 4, 5]\n",
            "list =  [1, 2, 3, 4, 5, 6] \n",
            " x =  [1, 2, 3, 4, 5]\n"
          ]
        }
      ],
      "source": [
        "import copy\n",
        "list = [1,2,3,4,5]\n",
        "x = list[:]\n",
        "list.append(6)\n",
        "print(\"list = \",list,'\\n','x = ',x)\n",
        "\n",
        "list = x[:]\n",
        "y = copy.deepcopy(list)\n",
        "print(\"list = \",list)\n",
        "list.append(6)\n",
        "print(\"list = \",list,'\\n','x = ',y)"
      ]
    }
  ]
}